{
 "cells": [
  {
   "cell_type": "code",
   "execution_count": 1,
   "id": "f1dd0271",
   "metadata": {},
   "outputs": [],
   "source": [
    "from codex_widget_factory import utils\n",
    "codex_tags = {\"0\": \"PE_DE_Assignment\"}\n",
    "results_json=[]"
   ]
  },
  {
   "cell_type": "code",
   "execution_count": 2,
   "id": "92c6bae1",
   "metadata": {
    "scrolled": true
   },
   "outputs": [],
   "source": [
    "plot = '''\n",
    "\n",
    "import plotly.graph_objects as go\n",
    "import plotly.express as px\n",
    "from plotly.io import to_json\n",
    "import numpy as np\n",
    "import json\n",
    "import pandas as pd\n",
    "from sklearn import datasets\n",
    "\n",
    "df = px.data.gapminder().query(\"country=='Canada'\")\n",
    "\n",
    "fig = go.Figure()\n",
    "fig = fig.add_trace(go.Scatter(x=df[\"year\"], y=df[\"lifeExp\"],))\n",
    "\n",
    "fig.update_layout(\n",
    "    title=\"Life expectancy in Canada\",\n",
    "    xaxis_title=\"Year\",\n",
    "    yaxis_title=\"Life Exp\",\n",
    "#     legend_title=\"Legend Title\",\n",
    "    font=dict(\n",
    "        family=\"Courier New, monospace\",\n",
    "        size=18,\n",
    "        color=\"RebeccaPurple\"\n",
    "    )\n",
    ")\n",
    "\n",
    "fig.show()\n",
    "dynamic_outputs = to_json(fig)\n",
    "'''\n"
   ]
  },
  {
   "cell_type": "code",
   "execution_count": 3,
   "id": "1ca5db95",
   "metadata": {
    "scrolled": true
   },
   "outputs": [],
   "source": [
    "table = '''\n",
    "\n",
    "import plotly.graph_objects as go\n",
    "import pandas as pd\n",
    "from plotly.io import to_json\n",
    "import plotly.express as px\n",
    "import json\n",
    "import pandas as pd\n",
    "from io import StringIO\n",
    "\n",
    "from azure.storage.blob import BlockBlobService\n",
    "sas_token = '?sv=2021-04-10&st=2022-12-22T08%3A12%3A47Z&se=2023-12-30T08%3A12%3A00Z&sr=c&sp=racwl&sig=fMeYkXsCvwK%2F0qVrCmj2j3NiMricQjOPWOkAEXekIPA%3D'\n",
    "account_name = 'willbedeletedsoon'\n",
    "container_name = 'codx-pede-s02'\n",
    "blob_name = 'gapminder.csv'\n",
    "\n",
    "def get_data_from_blob(sas_token, account_name, container_name, blob_name): \n",
    "    block_blob_service = BlockBlobService(account_name=account_name, sas_token= sas_token) \n",
    "    from_blob = block_blob_service.get_blob_to_text(container_name = container_name, blob_name=blob_name) \n",
    "    return pd.read_csv(StringIO(from_blob.content)) \n",
    "\n",
    "df = get_data_from_blob(sas_token, account_name, container_name, blob_name)\n",
    "\n",
    "df_columns = ['country', 'continent', 'year', 'lifeExp']\n",
    "\n",
    "table = go.Table(\n",
    "    header=dict(values=df_columns,\n",
    "               fill_color='paleturquoise',\n",
    "                align='left'),\n",
    "    cells=dict(values=[df.country, df.continent, df.year, df.lifeExp],\n",
    "               fill_color='lavender',\n",
    "               align='left'))\n",
    "\n",
    "fig = go.Figure(data=table)\n",
    "fig.show()\n",
    "container_dict = {}\n",
    "container_dict = to_json(fig)\n",
    "\n",
    "dynamic_outputs = container_dict\n",
    "\n",
    "'''"
   ]
  },
  {
   "cell_type": "code",
   "execution_count": 4,
   "id": "4907982f",
   "metadata": {
    "scrolled": true
   },
   "outputs": [],
   "source": [
    "color_table = '''\n",
    "\n",
    "def get_color_table(df):\n",
    "    actual_columns = df.columns[~df.columns.str.contains(\"_bgcolor\")]\n",
    "    bg_color_columns = df.columns[df.columns.str.contains(\"_bgcolor\")]\n",
    "    table_data = []\n",
    "    for index, row in df[actual_columns].iterrows():\n",
    "        row_list = []\n",
    "        for col, value in row.items():\n",
    "            if col + '_bgcolor' in bg_color_columns:\n",
    "                row_dict = {}\n",
    "                row_dict['value'] = value\n",
    "                row_dict['bgColor'] = df[col + '_bgcolor'].iloc[index]\n",
    "                row_list.append(row_dict)\n",
    "            else:\n",
    "                row_list.append(value)\n",
    "        table_data.append(row_list)\n",
    "    comp_dict = {}\n",
    "    comp_dict['table_headers'] = df[actual_columns].columns.values.tolist()\n",
    "    comp_dict['table_data'] = table_data\n",
    "    return comp_dict\n",
    "\n",
    "import pandas as pd\n",
    "import json\n",
    "from io import StringIO\n",
    "from azure.storage.blob import BlockBlobService\n",
    "\n",
    "sas_token = '?sv=2021-04-10&st=2022-12-22T08%3A12%3A47Z&se=2023-12-30T08%3A12%3A00Z&sr=c&sp=racwl&sig=fMeYkXsCvwK%2F0qVrCmj2j3NiMricQjOPWOkAEXekIPA%3D'\n",
    "account_name = 'willbedeletedsoon'\n",
    "container_name = 'codx-pede-s02'\n",
    "blob_name = 'iris_data.csv'\n",
    "\n",
    "def get_data_from_blob(sas_token, account_name, container_name, blob_name): \n",
    "    block_blob_service = BlockBlobService(account_name=account_name, sas_token= sas_token) \n",
    "    from_blob = block_blob_service.get_blob_to_text(container_name = container_name, blob_name=blob_name) \n",
    "    return pd.read_csv(StringIO(from_blob.content)) \n",
    "\n",
    "df = get_data_from_blob(sas_token, account_name, container_name, blob_name)\n",
    "\n",
    "df['sepal length (cm)_bgcolor'] = df['sepal length (cm)'].apply(lambda x: 'red' if x < 5.0 else 'blue')\n",
    "df['sepal width (cm)_bgcolor'] = 'Yellow'\n",
    "df['petal length (cm)_bgcolor'] = 'green'\n",
    "df['petal width (cm)_bgcolor'] = 'violet'\n",
    "\n",
    "color_dict = {'Setosa': 'orange', 'Versicolor': 'brown', 'Virginica': 'indigo'}\n",
    "df['Type_bgcolor'] = df['Type'].apply(lambda x : color_dict[x])\n",
    "\n",
    "container_dict = {}\n",
    "container_dict = get_color_table(df)\n",
    "dynamic_outputs = json.dumps(container_dict)\n",
    "\n",
    "'''"
   ]
  },
  {
   "cell_type": "code",
   "execution_count": 5,
   "id": "79d07e6b",
   "metadata": {},
   "outputs": [],
   "source": [
    "graph = '''\n",
    "\n",
    "import plotly.graph_objects as go\n",
    "from plotly.io import to_json\n",
    "import json\n",
    "import numpy as np\n",
    "\n",
    "x = np.linspace(-10, 10, 100)\n",
    "\n",
    "# Define the equation for y\n",
    "y = x**2 + 2*x + 1\n",
    "\n",
    "fig = go.Figure()\n",
    "fig = fig.add_trace(go.Scatter(x=x, y=y))\n",
    "\n",
    "dynamic_outputs = to_json(fig)\n",
    "\n",
    "\n",
    "'''"
   ]
  },
  {
   "cell_type": "code",
   "execution_count": 6,
   "id": "5c17da15",
   "metadata": {},
   "outputs": [],
   "source": [
    "multi_trace = '''\n",
    "\n",
    "import pandas as pd\n",
    "import plotly.graph_objects as go\n",
    "from plotly.io import to_json\n",
    "from azure.storage.blob import BlockBlobService\n",
    "from io import StringIO\n",
    "\n",
    "sas_token = '?sv=2021-04-10&st=2022-12-22T08%3A12%3A47Z&se=2023-12-30T08%3A12%3A00Z&sr=c&sp=racwl&sig=fMeYkXsCvwK%2F0qVrCmj2j3NiMricQjOPWOkAEXekIPA%3D'\n",
    "account_name = 'willbedeletedsoon'\n",
    "container_name = 'codx-pede-s02'\n",
    "blob_name = 'Spends_dataset.csv'\n",
    "\n",
    "def get_data_from_blob(sas_token, account_name, container_name, blob_name): \n",
    "    block_blob_service = BlockBlobService(account_name=account_name, sas_token= sas_token) \n",
    "    from_blob = block_blob_service.get_blob_to_text(container_name = container_name, blob_name=blob_name) \n",
    "    return pd.read_csv(StringIO(from_blob.content)) \n",
    "\n",
    "df = get_data_from_blob(sas_token, account_name, container_name, blob_name)\n",
    "df = df.rename(columns = {'Target Market(retail/ecom)' : 'Target Market'})\n",
    "df['Time Period'] = pd.to_datetime(df['Time Period'])\n",
    "\n",
    "marketing_df = df.groupby(['Marketing Channel']).agg({'Spends':'sum'}).reset_index()\n",
    "stage_df = df.groupby(['Stage']).agg({'Spends':'sum'}).reset_index()\n",
    "touch_df = df.groupby(['Touchpoint']).agg({'Spends':'sum'}).reset_index()\n",
    "target_df = df.groupby(['Target Market']).agg({'Spends':'sum'}).reset_index()\n",
    "brand_df = df.groupby(['Brand']).agg({'Spends':'sum'}).reset_index()\n",
    "\n",
    "fig = go.Figure()\n",
    "fig.add_trace(go.Bar(x = df['Brand'], y = df['Spends'], name = 'Brand', visible = True))\n",
    "fig.add_trace(go.Bar(x = df['Marketing Channel'], y = df['Spends'], name = 'Marketing Channel', visible = False))\n",
    "fig.add_trace(go.Bar(x = df['Stage'], y = df['Spends'], name = 'Stage', visible = False))\n",
    "fig.add_trace(go.Bar(x = df['Touchpoint'], y = df['Spends'], name = 'Touchpoint', visible = False))\n",
    "fig.add_trace(go.Bar(x = df['Target Market'], y = df['Spends'], name = 'Target Market', visible = False))\n",
    "\n",
    "\n",
    "button1 = dict(method='update',\n",
    "               args=[{\"visible\": [True, False, False, False, False]}],\n",
    "               label=\"Brand\" )\n",
    "button2 = dict(method='update',\n",
    "               args=[{\"visible\": [False, True, False, False, False]}],\n",
    "               label=\"Marketing channel\" )\n",
    "button3 = dict(method='update',\n",
    "               args=[{\"visible\": [False, False, True, False, False]}],\n",
    "               label=\"Stage\" )\n",
    "button5 = dict(method='update',\n",
    "               args=[{\"visible\": [False, False, False, True, False]}],\n",
    "               label=\"Target Market\" )\n",
    "button4 = dict(method='update',\n",
    "               args=[{\"visible\": [False, False, False, False, True]}],\n",
    "               label=\"Touchpoint\" )\n",
    "\n",
    "button = [button1, button2, button3, button4, button5]\n",
    "\n",
    "fig.update_layout(\n",
    "    updatemenus=[\n",
    "        dict(\n",
    "            active = 0,\n",
    "            type=\"buttons\",\n",
    "            direction=\"right\",\n",
    "            x=0.7,\n",
    "            y=1.2,\n",
    "            buttons=button,\n",
    "            showactive=False,\n",
    "            name = 'Level'\n",
    "\n",
    "        )\n",
    "    ],\n",
    ")\n",
    "\n",
    "fig.update_yaxes(title = 'Spends')\n",
    "#fig.show()\n",
    "dynamic_outputs = to_json(fig)\n",
    "\n",
    "'''"
   ]
  },
  {
   "cell_type": "code",
   "execution_count": null,
   "id": "4d3f260b",
   "metadata": {},
   "outputs": [],
   "source": []
  },
  {
   "cell_type": "code",
   "execution_count": 7,
   "id": "755e6e84",
   "metadata": {},
   "outputs": [],
   "source": [
    "# exec(multi_trace)"
   ]
  },
  {
   "cell_type": "code",
   "execution_count": null,
   "id": "8c1826e5",
   "metadata": {},
   "outputs": [],
   "source": []
  },
  {
   "cell_type": "markdown",
   "id": "0fec4f05",
   "metadata": {},
   "source": [
    "# Submission"
   ]
  },
  {
   "cell_type": "code",
   "execution_count": 8,
   "id": "0e562ac4",
   "metadata": {},
   "outputs": [],
   "source": [
    "plots_dict = {\n",
    "            'plot': plot,\n",
    "            'table' : table,\n",
    "            'color_table' : color_table,\n",
    "            'graph' : graph,\n",
    "            'multi_trace' : multi_trace\n",
    "            }\n"
   ]
  },
  {
   "cell_type": "code",
   "execution_count": 9,
   "id": "453e796c",
   "metadata": {},
   "outputs": [],
   "source": [
    "results_json.append({\n",
    "            'type': codex_tags['0'],\n",
    "            'name': codex_tags['0'],\n",
    "            'component': codex_tags['0'],\n",
    "            'dynamic_visual_results': plots_dict,\n",
    "                    })"
   ]
  },
  {
   "cell_type": "markdown",
   "id": "eca0678a",
   "metadata": {},
   "source": [
    "### Please save and checkpoint notebook before submitting params"
   ]
  },
  {
   "cell_type": "code",
   "execution_count": 10,
   "id": "796b644d",
   "metadata": {},
   "outputs": [
    {
     "name": "stderr",
     "output_type": "stream",
     "text": [
      "[NbConvertApp] Converting notebook PE_DE_Assignment_Ambreen_Firdouse_I0526.ipynb to script\n",
      "[NbConvertApp] Writing 8448 bytes to PE_DE_Assignment_Ambreen_Firdouse_I0526.py\n"
     ]
    }
   ],
   "source": [
    "currentNotebook = 'PE_DE_Assignment_Ambreen_Firdouse_I0526.ipynb'\n",
    "\n",
    "!jupyter nbconvert --to script {currentNotebook} "
   ]
  },
  {
   "cell_type": "code",
   "execution_count": 11,
   "id": "e8545083",
   "metadata": {},
   "outputs": [
    {
     "name": "stdout",
     "output_type": "stream",
     "text": [
      "['codex_widget_factory']\n",
      "SUCCESS | Submitted config params.\n"
     ]
    }
   ],
   "source": [
    "\n",
    "utils.submit_config_params(url='https://codex-api-stage.azurewebsites.net/codex-api/projects/upload-config-params/PVBW2c6xgqKjoFTplHm3Mg', nb_name=currentNotebook, results=results_json, codex_tags=codex_tags, args={})"
   ]
  },
  {
   "cell_type": "code",
   "execution_count": null,
   "id": "2c2c674a",
   "metadata": {},
   "outputs": [],
   "source": []
  }
 ],
 "metadata": {
  "kernelspec": {
   "display_name": "wf",
   "language": "python",
   "name": "wf"
  },
  "language_info": {
   "codemirror_mode": {
    "name": "ipython",
    "version": 3
   },
   "file_extension": ".py",
   "mimetype": "text/x-python",
   "name": "python",
   "nbconvert_exporter": "python",
   "pygments_lexer": "ipython3",
   "version": "3.7.5"
  }
 },
 "nbformat": 4,
 "nbformat_minor": 5
}
